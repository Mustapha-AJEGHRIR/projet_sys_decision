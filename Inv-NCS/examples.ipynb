{
 "cells": [
  {
   "cell_type": "markdown",
   "metadata": {},
   "source": [
    "# Examples\n",
    "\n",
    "This notebook showcases the usage of Inv-NCS"
   ]
  },
  {
   "cell_type": "markdown",
   "metadata": {},
   "source": [
    "### good case 1"
   ]
  },
  {
   "cell_type": "code",
   "execution_count": 1,
   "metadata": {},
   "outputs": [],
   "source": [
    "good_case_1 = {\n",
    "    \"criteria\": [0, 1, 2, 3],  # N\n",
    "    \"coalitions\": [[0], [1], [2], [3]],  # B\n",
    "    \"profiles\": [[10, 10, 10, 10]],\n",
    "    \"n_generated\": 1000,\n",
    "}"
   ]
  },
  {
   "cell_type": "code",
   "execution_count": null,
   "metadata": {},
   "outputs": [],
   "source": [
    "from learn import inverse_ncs\n",
    "from data_generator import generate_data\n",
    "\n",
    "data = generate_data(good_case_1, balanced=True)\n",
    "\n",
    "inverse_ncs(data, print_solution=True, save_solution=True)"
   ]
  },
  {
   "cell_type": "markdown",
   "metadata": {},
   "source": [
    "In such a good set of parameters, the result given are accurate and in accordance to the rules expressed in clauses."
   ]
  },
  {
   "cell_type": "code",
   "execution_count": 5,
   "metadata": {},
   "outputs": [],
   "source": [
    "good_case_2 = {\n",
    "    \"criteria\": [0, 1, 2, 3],\n",
    "    \"coalitions\": [[0, 1], [2, 3]],\n",
    "    \"profiles\": [[7.265, 10.1, 13.43, 17.789]],\n",
    "    \"n_generated\": 1000,\n",
    "}"
   ]
  },
  {
   "cell_type": "code",
   "execution_count": null,
   "metadata": {},
   "outputs": [],
   "source": [
    "from learn import inverse_ncs\n",
    "from data_generator import generate_data\n",
    "\n",
    "data = generate_data(good_case_2, balanced=True)\n",
    "\n",
    "inverse_ncs(data, print_solution=True, save_solution=True)"
   ]
  },
  {
   "cell_type": "markdown",
   "metadata": {},
   "source": [
    "### bad case 1"
   ]
  },
  {
   "cell_type": "code",
   "execution_count": 9,
   "metadata": {},
   "outputs": [],
   "source": [
    "bad_case_1 = {\n",
    "    \"criteria\": [0, 1, 2, 3],\n",
    "    \"coalitions\": [[0], [1], [2]],  \n",
    "    \"profiles\": [[10, 10, 10, 10]],\n",
    "    \"n_generated\": 1000,\n",
    "}"
   ]
  },
  {
   "cell_type": "code",
   "execution_count": null,
   "metadata": {},
   "outputs": [],
   "source": [
    "from learn import inverse_ncs\n",
    "from data_generator import generate_data\n",
    "\n",
    "data = generate_data(bad_case_1, balanced=True)\n",
    "\n",
    "inverse_ncs(data, print_solution=True, save_solution=True)"
   ]
  },
  {
   "cell_type": "markdown",
   "metadata": {},
   "source": [
    "### bad case 2"
   ]
  },
  {
   "cell_type": "code",
   "execution_count": 11,
   "metadata": {},
   "outputs": [],
   "source": [
    "bad_case_2 = {\n",
    "    \"criteria\": [0, 1, 2, 3],\n",
    "    \"coalitions\": [[0, 1]], \n",
    "    \"profiles\": [[10, 10, 10, 10]],\n",
    "    \"n_generated\": 1000,\n",
    "}"
   ]
  },
  {
   "cell_type": "code",
   "execution_count": null,
   "metadata": {},
   "outputs": [],
   "source": [
    "from learn import inverse_ncs\n",
    "from data_generator import generate_data\n",
    "\n",
    "data = generate_data(bad_case_2, balanced=True)\n",
    "\n",
    "inverse_ncs(data, print_solution=True, save_solution=True)"
   ]
  },
  {
   "cell_type": "markdown",
   "metadata": {},
   "source": [
    "In such a bad set of parameters, sometimes the result (= suffiscient coalitions) contains non relevant coalitions such as (0,3) in this case. Moreover, the learnt profile intervals are inaccurate.\n",
    "Why are such parameters bad? The assumption we made is that the parameter data generated are biased to some criteria to the detriment of others."
   ]
  }
 ],
 "metadata": {
  "interpreter": {
   "hash": "4f8c892451dbc43b0f532376052307a750293d19ee0de9865f8430b629ae0718"
  },
  "kernelspec": {
   "display_name": "Python 3.8.8 64-bit ('base': conda)",
   "language": "python",
   "name": "python3"
  },
  "language_info": {
   "codemirror_mode": {
    "name": "ipython",
    "version": 3
   },
   "file_extension": ".py",
   "mimetype": "text/x-python",
   "name": "python",
   "nbconvert_exporter": "python",
   "pygments_lexer": "ipython3",
   "version": "3.8.8"
  },
  "orig_nbformat": 4
 },
 "nbformat": 4,
 "nbformat_minor": 2
}
