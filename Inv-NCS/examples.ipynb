{
 "cells": [
  {
   "cell_type": "markdown",
   "metadata": {},
   "source": [
    "# Examples\n",
    "\n",
    "This notebook showcases the usage of Inv-NCS"
   ]
  },
  {
   "cell_type": "markdown",
   "metadata": {},
   "source": [
    "### good case 1"
   ]
  },
  {
   "cell_type": "code",
   "execution_count": 1,
   "metadata": {},
   "outputs": [],
   "source": [
    "good_case_1 = {\n",
    "    \"criteria\": [0, 1, 2, 3],  # N\n",
    "    \"coalitions\": [[0], [1], [2], [3]],  # B\n",
    "    \"profiles\": [[10, 10, 10, 10]],\n",
    "    \"n_generated\": 1000,\n",
    "}"
   ]
  },
  {
   "cell_type": "code",
   "execution_count": 3,
   "metadata": {},
   "outputs": [
    {
     "name": "stdout",
     "output_type": "stream",
     "text": [
      "Generating data...\n"
     ]
    },
    {
     "name": "stderr",
     "output_type": "stream",
     "text": [
      "100%|██████████| 1000/1000 [00:00<00:00, 1995.29it/s]\n"
     ]
    },
    {
     "name": "stdout",
     "output_type": "stream",
     "text": [
      "Learning the NCS model using SAT Solver...\n",
      "Solving with /home/nouamane/projects/algo/projet_sys_decision/Inv-NCS/gophersat/linux64/gophersat-1.1.6...\n",
      "Solving took 1.1389 seconds\n",
      "Saving solution to /home/nouamane/projects/algo/projet_sys_decision/Inv-NCS/output/solution.sol\n",
      "\n",
      "********************\n",
      "SAT solver result:\n",
      "Satisfiable: True\n",
      "Resolution time: 1.1389 seconds\n",
      "\n",
      "Learnt sufficient coalitions:\n",
      "\t(0,)\n",
      "\t(1,)\n",
      "\t(2,)\n",
      "\t(3,)\n",
      "\t(0, 1)\n",
      "\t(0, 2)\n",
      "\t(0, 3)\n",
      "\t(1, 2)\n",
      "\t(1, 3)\n",
      "\t(2, 3)\n",
      "\t(0, 1, 2)\n",
      "\t(0, 1, 3)\n",
      "\t(0, 2, 3)\n",
      "\t(1, 2, 3)\n",
      "\t(0, 1, 2, 3)\n",
      "\n",
      "Learnt profiles intervals:\n",
      "\tProfile 1: [[10.0, 10.03], [9.99, 10.0], [10.0, 10.0], [9.99, 10.02]]\n"
     ]
    }
   ],
   "source": [
    "from learn import inverse_ncs\n",
    "from data_generator import generate_data\n",
    "\n",
    "data = generate_data(good_case_1, balanced=True)\n",
    "\n",
    "inverse_ncs(data, print_solution=True, save_solution=True);"
   ]
  },
  {
   "cell_type": "markdown",
   "metadata": {},
   "source": [
    "In such a good set of parameters, the result given are accurate and in accordance to the rules expressed in clauses."
   ]
  },
  {
   "cell_type": "code",
   "execution_count": 4,
   "metadata": {},
   "outputs": [],
   "source": [
    "good_case_2 = {\n",
    "    \"criteria\": [0, 1, 2, 3],\n",
    "    \"coalitions\": [[0, 1], [2, 3]],\n",
    "    \"profiles\": [[7.265, 10.1, 13.43, 17.789]],\n",
    "    \"n_generated\": 1000,\n",
    "}"
   ]
  },
  {
   "cell_type": "code",
   "execution_count": 6,
   "metadata": {},
   "outputs": [
    {
     "name": "stdout",
     "output_type": "stream",
     "text": [
      "Generating data...\n"
     ]
    },
    {
     "name": "stderr",
     "output_type": "stream",
     "text": [
      "100%|██████████| 1000/1000 [00:00<00:00, 10668.38it/s]"
     ]
    },
    {
     "name": "stdout",
     "output_type": "stream",
     "text": [
      "Learning the NCS model using SAT Solver...\n"
     ]
    },
    {
     "name": "stderr",
     "output_type": "stream",
     "text": [
      "\n"
     ]
    },
    {
     "name": "stdout",
     "output_type": "stream",
     "text": [
      "Solving with /home/nouamane/projects/algo/projet_sys_decision/Inv-NCS/gophersat/linux64/gophersat-1.1.6...\n",
      "Solving took 1.0217 seconds\n",
      "Saving solution to /home/nouamane/projects/algo/projet_sys_decision/Inv-NCS/output/solution.sol\n",
      "\n",
      "********************\n",
      "SAT solver result:\n",
      "Satisfiable: True\n",
      "Resolution time: 1.0217 seconds\n",
      "\n",
      "Learnt sufficient coalitions:\n",
      "\t(0, 1)\n",
      "\t(2, 3)\n",
      "\t(0, 1, 2)\n",
      "\t(0, 1, 3)\n",
      "\t(0, 2, 3)\n",
      "\t(1, 2, 3)\n",
      "\t(0, 1, 2, 3)\n",
      "\n",
      "Learnt profiles intervals:\n",
      "\tProfile 1: [[7.26, 7.27], [10.07, 10.08], [13.42, 13.45], [17.8, 17.8]]\n"
     ]
    }
   ],
   "source": [
    "from learn import inverse_ncs\n",
    "from data_generator import generate_data\n",
    "\n",
    "data = generate_data(good_case_2, balanced=True)\n",
    "\n",
    "inverse_ncs(data, print_solution=True, save_solution=True);"
   ]
  },
  {
   "cell_type": "markdown",
   "metadata": {},
   "source": [
    "Note: we noticed experimentally, that the defined coalitions must cover all the criteria, otherwise we get alternative solutions for the problem. (aka the problem is not well defined)\n",
    "\n",
    "In the following we find some examples of this case"
   ]
  },
  {
   "cell_type": "markdown",
   "metadata": {},
   "source": [
    "### bad case 1"
   ]
  },
  {
   "cell_type": "code",
   "execution_count": 7,
   "metadata": {},
   "outputs": [],
   "source": [
    "bad_case_1 = {\n",
    "    \"criteria\": [0, 1, 2, 3],\n",
    "    \"coalitions\": [[0], [1], [2]],  \n",
    "    \"profiles\": [[10, 10, 10, 10]],\n",
    "    \"n_generated\": 1000,\n",
    "}"
   ]
  },
  {
   "cell_type": "code",
   "execution_count": 8,
   "metadata": {},
   "outputs": [
    {
     "name": "stdout",
     "output_type": "stream",
     "text": [
      "Generating data...\n"
     ]
    },
    {
     "name": "stderr",
     "output_type": "stream",
     "text": [
      "100%|██████████| 1000/1000 [00:00<00:00, 3470.51it/s]\n"
     ]
    },
    {
     "name": "stdout",
     "output_type": "stream",
     "text": [
      "Learning the NCS model using SAT Solver...\n",
      "Solving with /home/nouamane/projects/algo/projet_sys_decision/Inv-NCS/gophersat/linux64/gophersat-1.1.6...\n",
      "Solving took 1.1941 seconds\n",
      "Saving solution to /home/nouamane/projects/algo/projet_sys_decision/Inv-NCS/output/solution.sol\n",
      "\n",
      "********************\n",
      "SAT solver result:\n",
      "Satisfiable: True\n",
      "Resolution time: 1.1941 seconds\n",
      "\n",
      "Learnt sufficient coalitions:\n",
      "\t(0,)\n",
      "\t(1,)\n",
      "\t(2,)\n",
      "\t(0, 1)\n",
      "\t(0, 2)\n",
      "\t(0, 3)\n",
      "\t(1, 2)\n",
      "\t(1, 3)\n",
      "\t(2, 3)\n",
      "\t(0, 1, 2)\n",
      "\t(0, 1, 3)\n",
      "\t(0, 2, 3)\n",
      "\t(1, 2, 3)\n",
      "\t(0, 1, 2, 3)\n",
      "\n",
      "Learnt profiles intervals:\n",
      "\tProfile 1: [[10.06, 10.07], [9.99, 10.01], [10.0, 10.01], [16.11, 20]]\n"
     ]
    }
   ],
   "source": [
    "from learn import inverse_ncs\n",
    "from data_generator import generate_data\n",
    "\n",
    "data = generate_data(bad_case_1, balanced=True)\n",
    "\n",
    "inverse_ncs(data, print_solution=True, save_solution=True);"
   ]
  },
  {
   "cell_type": "markdown",
   "metadata": {},
   "source": [
    "### bad case 2"
   ]
  },
  {
   "cell_type": "code",
   "execution_count": 9,
   "metadata": {},
   "outputs": [],
   "source": [
    "bad_case_2 = {\n",
    "    \"criteria\": [0, 1, 2, 3],\n",
    "    \"coalitions\": [[0, 1]], \n",
    "    \"profiles\": [[10, 10, 10, 10]],\n",
    "    \"n_generated\": 1000,\n",
    "}"
   ]
  },
  {
   "cell_type": "code",
   "execution_count": 10,
   "metadata": {},
   "outputs": [
    {
     "name": "stdout",
     "output_type": "stream",
     "text": [
      "Generating data...\n"
     ]
    },
    {
     "name": "stderr",
     "output_type": "stream",
     "text": [
      "100%|██████████| 1000/1000 [00:00<00:00, 4350.22it/s]\n"
     ]
    },
    {
     "name": "stdout",
     "output_type": "stream",
     "text": [
      "Learning the NCS model using SAT Solver...\n",
      "Solving with /home/nouamane/projects/algo/projet_sys_decision/Inv-NCS/gophersat/linux64/gophersat-1.1.6...\n",
      "Solving took 1.0753 seconds\n",
      "Saving solution to /home/nouamane/projects/algo/projet_sys_decision/Inv-NCS/output/solution.sol\n",
      "\n",
      "********************\n",
      "SAT solver result:\n",
      "Satisfiable: True\n",
      "Resolution time: 1.0753 seconds\n",
      "\n",
      "Learnt sufficient coalitions:\n",
      "\t(0, 1, 2, 3)\n",
      "\n",
      "Learnt profiles intervals:\n",
      "\tProfile 1: [[9.99, 10.0], [9.98, 10.01], [2.95, 3.32], [0, 3.27]]\n"
     ]
    }
   ],
   "source": [
    "from learn import inverse_ncs\n",
    "from data_generator import generate_data\n",
    "\n",
    "data = generate_data(bad_case_2, balanced=True)\n",
    "\n",
    "inverse_ncs(data, print_solution=True, save_solution=True);"
   ]
  }
 ],
 "metadata": {
  "interpreter": {
   "hash": "4f8c892451dbc43b0f532376052307a750293d19ee0de9865f8430b629ae0718"
  },
  "kernelspec": {
   "display_name": "Python 3.8.8 64-bit ('base': conda)",
   "language": "python",
   "name": "python3"
  },
  "language_info": {
   "codemirror_mode": {
    "name": "ipython",
    "version": 3
   },
   "file_extension": ".py",
   "mimetype": "text/x-python",
   "name": "python",
   "nbconvert_exporter": "python",
   "pygments_lexer": "ipython3",
   "version": "3.9.5"
  },
  "orig_nbformat": 4
 },
 "nbformat": 4,
 "nbformat_minor": 2
}
