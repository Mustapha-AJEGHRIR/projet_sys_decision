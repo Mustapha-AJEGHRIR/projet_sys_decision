{
 "cells": [
  {
   "cell_type": "markdown",
   "metadata": {},
   "source": [
    "<center><img src='https://drive.google.com/uc?export=view&id=1qJ8NqAZolTBQY7lN-deZ8xEsU3dlUiLz' width=200></center>\n",
    "\n",
    "\n",
    "\n",
    "<h6><center></center></h6>\n",
    "\n",
    "<h1>\n",
    "<hr style=\" border:none; height:3px;\">\n",
    "<center>Système de Décision </center>\n",
    "    <center> TP 0 : Prise en Main d'un Solveur SAT </center>\n",
    "<hr style=\" border:none; height:3px;\">\n",
    "</h1>\n",
    "\n"
   ]
  },
  {
   "cell_type": "markdown",
   "metadata": {
    "tags": []
   },
   "source": [
    "## Le format DIMACS\n",
    "\n",
    "La plupart des solveurs SAT utilisent comme format de représentation de CNF le format DIMACS. C'est par exemple le format d'entrée pour la compétition [SAT](https://www.satcompetition.org/) dont les benchmarks de l'édition 2018 sont accessibles [ici](http://sat2018.forsyte.tuwien.ac.at/benchmarks/).\n",
    "\n",
    "Un fichier DIMACS est composé de caractères ASCII et se veut être très simple à *parser* (attention, les fins de ligne sont au format Unix). Il est composé de 3 principales parties :\n",
    "- Une première partie de commentaires. Un ligne de commentaire commence par le caractère `c`.\n",
    "- Une deuxième partie détaillant le contenu du fichier. Il est de la forme `p FORMAT #VARIABLES #CLAUSES`\n",
    "- L'ensemble des clauses. Chacune de ces lignes de clauses est composée d'entiers (positifs ou négatifs) et *devrait* se terminer par `0`. Un nombre négatif représente un littéral négatifs, tandis qu'un littéral positif est représenté par un nombre positif."
   ]
  },
  {
   "cell_type": "markdown",
   "metadata": {},
   "source": [
    "### Exemple\n",
    "\n",
    "Si l'on considère le vocabulaire `[A, B, C]` (dans cet ordre), la formule **(¬C ∨ A)  ∧ (B ∨ ¬A ∨ C)** est représentée par le fichier suivant :\n",
    "\n",
    "\n",
    "```\n",
    "c\n",
    "c Exemple de fichier .cnf file.\n",
    "c\n",
    "p cnf 3 2\n",
    "-3 1 0\n",
    "2 -1 3 0\n",
    "\n",
    "```"
   ]
  },
  {
   "cell_type": "markdown",
   "metadata": {},
   "source": [
    "## Le solveur gophersat\n",
    "\n",
    "Le solveur **gophersat** est un programme open-source écrit en [Go](https://golang.org/). Ses sources sont accessibles sur [https://github.com/crillab/gophersat](https://github.com/crillab/gophersat). Une version compilée est disponible sur le EDUNAO du cours. C'est un solveur SAT, MAX-SAT et pseudo-booléen. Il est également capable de faire du comptage de modèles."
   ]
  },
  {
   "cell_type": "markdown",
   "metadata": {},
   "source": [
    "## Exemple :Problème de Coloration\n",
    "\n",
    "Écrire un programme python permettant de générer le fichier `.cnf` permettant de résoudre le [problème de coloration de graphe](https://fr.wikipedia.org/wiki/Coloration_de_graphe) à 3 couleurs suivant (schéma issu de *wikipedia*) :\n",
    "\n",
    "<img src=\"graph_3-coloring.png\" alt=\"drawing\" width=\"100\"/>\n",
    "\n",
    "\n",
    "\n",
    "\n",
    "\n",
    "* **Input** : \n",
    "    - un graphe non orienté sous forme $(V,E)$ où $E$ est un ensemble de paires de sommets et $V$ l'ensemble des sommets, et \n",
    "    - un entier $k$\n",
    "\n",
    "* **Output** : une coloration du graphe en $k$ couleurs (un dictionnaire)\n",
    "---\n"
   ]
  },
  {
   "cell_type": "code",
   "execution_count": null,
   "metadata": {},
   "outputs": [],
   "source": [
    "# Exemple\n",
    "\n",
    "#Ensemble V\n",
    "Vertices = ['A','B','C','D']\n",
    "\n",
    "#Ensemble E\n",
    "Edges = [('A','B'),('A','C'),('B','C'),('B','D')]\n",
    "\n",
    "#k=3\n",
    "Colors = [1,2,3]"
   ]
  },
  {
   "cell_type": "markdown",
   "metadata": {},
   "source": [
    "### Modélisation SAT\n",
    "* **Variables** $x_{i,j}$ signifiant \"le noeud $i$ a la couleur $j$\""
   ]
  },
  {
   "cell_type": "code",
   "execution_count": null,
   "metadata": {},
   "outputs": [],
   "source": [
    "#Définitions des variables\n",
    "\n",
    "variables = [(i,j) for i in Vertices for j in Colors]\n",
    "\n",
    "#Création des dictionnaires\n",
    "\n",
    "v2i = {v : i+1 for i,v in enumerate(variables)} #numérotation qui commence à 1\n",
    "i2v = {i : v for v,i in v2i.items()}\n",
    "\n",
    "print(\"variables to Integers\")\n",
    "print(v2i)\n",
    "\n",
    "print(\"Intergers to Variables\")\n",
    "print(i2v)"
   ]
  },
  {
   "cell_type": "markdown",
   "metadata": {},
   "source": [
    "* Clauses :\n",
    "    - chaque noeud a au moins une couleur : $\\forall i\\in V\\  x_{i,1} \\lor \\dots \\lor x_{i,k}$\n",
    "    - chaque noeud a au plus une couleur : $\\forall i\\in V\\ \\forall (j_1,j_2) : 1 \\le j_1 < j_2 \\le k\\ \\neg x_{i,j_1} \\lor \\neg x_{i,j_2}$\n",
    "    - les sommets reliés par une arête ont des couleurs différentes : $\\forall (v_1,v_2)\\in E \\forall j\\in [k]\\ \\neg x_{v_1,k}\\lor \\neg x_{v_2,k}$\n",
    "\n"
   ]
  },
  {
   "cell_type": "code",
   "execution_count": null,
   "metadata": {},
   "outputs": [],
   "source": [
    "#Clause 1\n",
    "\n",
    "clauses_atleastonecolor = [[v2i[i,j] for j in Colors] for i in Vertices]\n",
    "print(clauses_atleastonecolor)"
   ]
  },
  {
   "cell_type": "code",
   "execution_count": null,
   "metadata": {},
   "outputs": [],
   "source": [
    "#Clause2\n",
    "\n",
    "from itertools import combinations\n",
    "clauses_atmostonecolor = [[-v2i[i,j1],-v2i[i,j2]]\n",
    "                          for i in Vertices for j1,j2 in combinations(Colors,2)]\n",
    "print(clauses_atmostonecolor)"
   ]
  },
  {
   "cell_type": "code",
   "execution_count": null,
   "metadata": {
    "tags": []
   },
   "outputs": [],
   "source": [
    "#Clause3\n",
    "\n",
    "clauses_differentcolors = [[-v2i[v1,k],-v2i[v2,k]] for k in Colors for v1,v2 in Edges]\n",
    "print(clauses_differentcolors)"
   ]
  },
  {
   "cell_type": "markdown",
   "metadata": {
    "tags": []
   },
   "source": [
    "## **Important**\n",
    "\n",
    "- Unzip le dossuer gophersat.zip\n",
    "- mettre le "
   ]
  },
  {
   "cell_type": "code",
   "execution_count": null,
   "metadata": {},
   "outputs": [],
   "source": [
    "#Construction du DIMCS et Résolution\n",
    "\n",
    "import subprocess\n",
    "\n",
    "def clauses_to_dimacs(clauses,numvar) :\n",
    "    dimacs = 'c This is it\\np cnf '+str(numvar)+' '+str(len(clauses))+'\\n'\n",
    "    for clause in clauses :\n",
    "        for atom in clause :\n",
    "            dimacs += str(atom) +' '\n",
    "        dimacs += '0\\n'\n",
    "    return dimacs\n",
    "\n",
    "def write_dimacs_file(dimacs, filename):\n",
    "    with open(filename, \"w\", newline=\"\") as cnf:\n",
    "        cnf.write(dimacs)\n",
    "\n",
    "#Attention à utiliser la vesion du solveur compatible avec votre système d'exploitation, mettre le solveur dans le même dossier que ce markbook        \n",
    "\n",
    "def exec_gophersat(filename, cmd = \"./gophersat.exe\", encoding = \"utf8\") :\n",
    "    result = subprocess.run([cmd, filename], stdout=subprocess.PIPE, check=True, encoding=encoding)\n",
    "    string = str(result.stdout)\n",
    "    lines = string.splitlines()\n",
    "\n",
    "    if lines[1] != \"s SATISFIABLE\":\n",
    "        return False, [], {}\n",
    "\n",
    "    model = lines[2][2:].split(\" \")\n",
    "\n",
    "    return True, [int(x) for x in model if int(x) != 0], { i2v[abs(int(v))] : int(v) > 0 for v in model if int(v)!=0} \n"
   ]
  },
  {
   "cell_type": "code",
   "execution_count": null,
   "metadata": {},
   "outputs": [],
   "source": [
    "#Lancer la résolution\n",
    "\n",
    "myClauses= clauses_atleastonecolor + clauses_atmostonecolor + clauses_differentcolors\n",
    "myDimacs = clauses_to_dimacs(myClauses,len(variables))\n",
    "\n",
    "write_dimacs_file(myDimacs,\"workingfile.cnf\")\n",
    "res = exec_gophersat(\"workingfile.cnf\")\n",
    "\n",
    "#Résultat\n",
    "print(res)"
   ]
  }
 ],
 "metadata": {
  "kernelspec": {
   "display_name": "Python 3 (ipykernel)",
   "language": "python",
   "name": "python3"
  },
  "language_info": {
   "codemirror_mode": {
    "name": "ipython",
    "version": 3
   },
   "file_extension": ".py",
   "mimetype": "text/x-python",
   "name": "python",
   "nbconvert_exporter": "python",
   "pygments_lexer": "ipython3",
   "version": "3.9.7"
  }
 },
 "nbformat": 4,
 "nbformat_minor": 4
}
